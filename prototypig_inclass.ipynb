{
 "cells": [
  {
   "cell_type": "code",
   "execution_count": 9,
   "id": "6784f16d-6481-48a2-9870-0a4aed04f205",
   "metadata": {
    "collapsed": true,
    "jupyter": {
     "outputs_hidden": true
    }
   },
   "outputs": [],
   "source": [
    "#!pip install requests\n",
    "import requests as rq"
   ]
  },
  {
   "cell_type": "code",
   "execution_count": 24,
   "id": "defcca83-68ff-40d3-8f49-b888a40e5564",
   "metadata": {
    "collapsed": true,
    "jupyter": {
     "outputs_hidden": true
    },
    "tags": []
   },
   "outputs": [
    {
     "ename": "TypeError",
     "evalue": "string indices must be integers",
     "output_type": "error",
     "traceback": [
      "\u001b[0;31m---------------------------------------------------------------------------\u001b[0m",
      "\u001b[0;31mTypeError\u001b[0m                                 Traceback (most recent call last)",
      "Input \u001b[0;32mIn [24]\u001b[0m, in \u001b[0;36m<cell line: 8>\u001b[0;34m()\u001b[0m\n\u001b[1;32m      6\u001b[0m repos\u001b[38;5;241m.\u001b[39mjson()\n\u001b[1;32m      8\u001b[0m \u001b[38;5;28;01mfor\u001b[39;00m repo \u001b[38;5;129;01min\u001b[39;00m repos\u001b[38;5;241m.\u001b[39mjson():\n\u001b[0;32m----> 9\u001b[0m     commits \u001b[38;5;241m=\u001b[39m rq\u001b[38;5;241m.\u001b[39mget(\u001b[38;5;124mf\u001b[39m\u001b[38;5;124m\"\u001b[39m\u001b[38;5;132;01m{\u001b[39;00murl\u001b[38;5;132;01m}\u001b[39;00m\u001b[38;5;124m/repos/\u001b[39m\u001b[38;5;132;01m{\u001b[39;00morg\u001b[38;5;132;01m}\u001b[39;00m\u001b[38;5;124m/\u001b[39m\u001b[38;5;132;01m{\u001b[39;00mrepo[\u001b[38;5;124m'\u001b[39m\u001b[38;5;124mname\u001b[39m\u001b[38;5;124m'\u001b[39m]\u001b[38;5;132;01m}\u001b[39;00m\u001b[38;5;124m/commits\u001b[39m\u001b[38;5;124m\"\u001b[39m)\n\u001b[1;32m     10\u001b[0m     \u001b[38;5;28;01mfor\u001b[39;00m commit \u001b[38;5;129;01min\u001b[39;00m commits\u001b[38;5;241m.\u001b[39mjson():\n\u001b[1;32m     11\u001b[0m         status \u001b[38;5;241m=\u001b[39m rq\u001b[38;5;241m.\u001b[39mget(\u001b[38;5;124mf\u001b[39m\u001b[38;5;124m\"\u001b[39m\u001b[38;5;132;01m{\u001b[39;00murl\u001b[38;5;132;01m}\u001b[39;00m\u001b[38;5;124m/repos/\u001b[39m\u001b[38;5;132;01m{\u001b[39;00morg\u001b[38;5;132;01m}\u001b[39;00m\u001b[38;5;124m/\u001b[39m\u001b[38;5;132;01m{\u001b[39;00mrepo\u001b[38;5;132;01m}\u001b[39;00m\u001b[38;5;124m/commits/\u001b[39m\u001b[38;5;132;01m{\u001b[39;00mcommit[\u001b[38;5;124m'\u001b[39m\u001b[38;5;124msha\u001b[39m\u001b[38;5;124m'\u001b[39m]\u001b[38;5;132;01m}\u001b[39;00m\u001b[38;5;124m/status\u001b[39m\u001b[38;5;124m\"\u001b[39m)\u001b[38;5;241m.\u001b[39mjson()\n",
      "\u001b[0;31mTypeError\u001b[0m: string indices must be integers"
     ]
    }
   ],
   "source": [
    "# https://api.github.com/orgs/DB-Teaching/repos\n",
    "\n",
    "url = \"https://api.github.com\" \n",
    "org = \"DB-Teaching\"\n",
    "repos = rq.get(f\"{url}/orgs/{org}/repos\")\n",
    "repos.json()\n",
    "\n",
    "for repo in repos.json():\n",
    "    commits = rq.get(f\"{url}/repos/{org}/{repo['name']}/commits\")\n",
    "    for commit in commits.json():\n",
    "        status = rq.get(f\"{url}/repos/{org}/{repo}/commits/{commit['sha']}/status\").json()\n",
    "        print(status)\n",
    "    "
   ]
  },
  {
   "cell_type": "code",
   "execution_count": null,
   "id": "82659132-7821-4625-9285-61a976035a97",
   "metadata": {
    "collapsed": true,
    "jupyter": {
     "outputs_hidden": true
    }
   },
   "outputs": [],
   "source": [
    "data = rq.get(\"https://api.github.com/repos/DB-Teaching/01-01-hello-world-dominikb1888/commits/2d29b42b84551b94b661c001c467c823be56e777/status\")\n",
    "data.json()"
   ]
  },
  {
   "cell_type": "code",
   "execution_count": 32,
   "id": "b7e407d5-e80c-4169-954b-299400169d4a",
   "metadata": {
    "tags": []
   },
   "outputs": [],
   "source": [
    "#!pip install pygithub\n",
    "#!pip install dotenv\n",
    "from github import Github\n",
    "import os\n",
    "\n",
    "from dotenv import load_dotenv   #for python-dotenv method\n",
    "load_dotenv()\n",
    "\n",
    "\n",
    "gh = Github(os.environ.get('GHTOKEN'))\n"
   ]
  },
  {
   "cell_type": "code",
   "execution_count": 33,
   "id": "641b3099-dc91-4926-8360-45e0fc8ae976",
   "metadata": {},
   "outputs": [
    {
     "data": {
      "text/plain": [
       "<github.MainClass.Github at 0x1070f3490>"
      ]
     },
     "execution_count": 33,
     "metadata": {},
     "output_type": "execute_result"
    }
   ],
   "source": [
    "gh"
   ]
  },
  {
   "cell_type": "code",
   "execution_count": null,
   "id": "4ff15138-2cee-4c99-9d2f-cbe298cb9b4f",
   "metadata": {},
   "outputs": [],
   "source": [
    "import re\n",
    "\n",
    "table = []\n",
    "\n",
    "for repo in gh.get_organization(\"DB-Teaching\").get_repos():\n",
    "    splitlist = re.split(\"-|_\", repo.name, maxsplit=2)\n",
    "    \n",
    "    session, exercise, *rest = (\n",
    "        splitlist if len(splitlist) > 1 else (splitlist, 0, 0)\n",
    "    )\n",
    "    \n",
    "    user = 'DB-Teaching' if '_' in repo.name else repo.name.split(\"-\")[-1] \n",
    "    \n",
    "    statuses = []\n",
    "    for commit in repo.get_commits():\n",
    "        statuses.append(commit.get_combined_status())\n",
    "    \n",
    "    table.append({\n",
    "        'name': repo.name,\n",
    "        'session': session,\n",
    "        'exercise': exercise,\n",
    "        'user': user,\n",
    "        'status': statuses,\n",
    "    })\n",
    "\n",
    "table"
   ]
  },
  {
   "cell_type": "code",
   "execution_count": null,
   "id": "5e7015a4-4948-4466-9e75-c72d03d620e2",
   "metadata": {},
   "outputs": [],
   "source": [
    "# Transform table into Pandas DataFrame\n",
    "import pandas as pd\n",
    "\n",
    "df = pd.DataFrame(table) \n",
    "\n",
    "# Create PivotTable with the correctly aggreagted data"
   ]
  },
  {
   "cell_type": "code",
   "execution_count": null,
   "id": "8f1833eb-1ac4-4547-81a9-c6a513686872",
   "metadata": {},
   "outputs": [],
   "source": [
    "import matplotlib.pyplot as plt\n",
    "import seaborn as sns\n",
    "\n",
    "# Feed DataFrame to Seaborn Heatmap\n",
    "sns.heatmap(df)\n"
   ]
  },
  {
   "cell_type": "code",
   "execution_count": null,
   "id": "07403713-8bb2-4e29-a3df-29cf59a9f5ff",
   "metadata": {},
   "outputs": [],
   "source": []
  }
 ],
 "metadata": {
  "kernelspec": {
   "display_name": "swen",
   "language": "python",
   "name": "swen"
  },
  "language_info": {
   "codemirror_mode": {
    "name": "ipython",
    "version": 3
   },
   "file_extension": ".py",
   "mimetype": "text/x-python",
   "name": "python",
   "nbconvert_exporter": "python",
   "pygments_lexer": "ipython3",
   "version": "3.10.4"
  }
 },
 "nbformat": 4,
 "nbformat_minor": 5
}
